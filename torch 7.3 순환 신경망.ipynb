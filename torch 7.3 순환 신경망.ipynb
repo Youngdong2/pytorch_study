{
 "cells": [
  {
   "cell_type": "markdown",
   "id": "4e4411ec",
   "metadata": {},
   "source": [
    "torchtext는 자연어 처리 분야에서 사용하는 데이터로더이다.파일 가져오기, 토큰화, 단어 집합 생성, 인코딩, 단어 벡터 생성 등의 작업을 지원하기 때문에 자연어 처리에서 많이 사용되고 있다."
   ]
  },
  {
   "cell_type": "code",
   "execution_count": 3,
   "id": "5cfd95e9",
   "metadata": {},
   "outputs": [],
   "source": [
    "import torch\n",
    "import torchtext # 0.9\n",
    "import numpy as np\n",
    "import torch.nn as nn\n",
    "import torch.nn.functional as F\n",
    "import time"
   ]
  },
  {
   "cell_type": "markdown",
   "id": "cf0f513b",
   "metadata": {},
   "source": [
    "## 데이터 전처리"
   ]
  },
  {
   "cell_type": "code",
   "execution_count": 5,
   "id": "8815cb2b",
   "metadata": {},
   "outputs": [],
   "source": [
    "start = time.time()\n",
    "TEXT = torchtext.legacy.data.Field(lower=True, fix_length=200, batch_first=False)\n",
    "LABEL = torchtext.legacy.data.Field(sequential=False)"
   ]
  },
  {
   "cell_type": "markdown",
   "id": "049d84d2",
   "metadata": {},
   "source": [
    "* torchtext.legacy.data에서 제공하는 Field는 데이터 전처리를 위해 사용되며 여기에서 사용되는 파라미터는 다음과 같다.\n",
    "    1. lower: 대문자를 모두 소문자로 변경한다. 기본값은 false\n",
    "    2. fix_length: 고정된 길이의 데이터를 얻을 수 있다. 여기에서는 데이터의 길이를 200으로 고정했으며 200보다 짧다면 패딩을 시켜준다.\n",
    "    3. batch_first: 신경망에 입력되는 텐서의 첫 번째 차원 값이 배치 크기가 되도록 한다."
   ]
  },
  {
   "cell_type": "markdown",
   "id": "1094d59e",
   "metadata": {},
   "source": [
    "## 데이터셋 준비"
   ]
  },
  {
   "cell_type": "code",
   "execution_count": 6,
   "id": "e32f4716",
   "metadata": {},
   "outputs": [
    {
     "name": "stdout",
     "output_type": "stream",
     "text": [
      "downloading aclImdb_v1.tar.gz\n"
     ]
    },
    {
     "name": "stderr",
     "output_type": "stream",
     "text": [
      "aclImdb_v1.tar.gz: 100%|██████████| 84.1M/84.1M [00:15<00:00, 5.54MB/s]\n"
     ]
    }
   ],
   "source": [
    "from torchtext.legacy import datasets\n",
    "\n",
    "train_data, test_data = datasets.IMDB.splits(TEXT, LABEL)"
   ]
  },
  {
   "cell_type": "code",
   "execution_count": 7,
   "id": "84b2190b",
   "metadata": {},
   "outputs": [
    {
     "name": "stdout",
     "output_type": "stream",
     "text": [
      "{'text': ['for', 'the', 'life', 'of', 'me,', 'why', 'did', 'this', 'film', 'receive', 'an', 'r', 'rating?!', 'while', 'it', 'is', 'about', 'flesh-eating', 'zombies,', 'believe', 'it', 'or', 'not,', \"it's\", 'actually', 'a', 'pretty', 'good', 'family-friendly', 'film--at', 'least', 'if', 'your', 'kids', 'are', 'age', '10', 'and', 'older.', 'unlike', 'the', 'traditional', 'zombie', 'films,', 'this', 'one', 'has', 'an', 'excellent', 'sense', 'of', 'humor', 'as', 'well', 'as', 'a', 'traditional', 'values--albeit', 'a', 'bit', 'twisted!', 'the', 'language', \"isn't\", 'a', 'serious', 'problem,', 'there', 'is', 'no', 'nudity', 'and', 'the', 'film', 'style', 'is', 'definitely', 'geared', 'towards', 'kids', '(much', 'like', 'the', 'old', 'tv', 'show', '\"eerie,', 'indiana\")--yet', 'some', 'knucklehead', 'slapped', 'an', 'r', 'rating', 'one', 'it!', 'believe', 'me,', 'most', 'kids', 'have', 'seen', 'worse', 'violence', 'than', 'this', 'and', 'it', 'just', 'seems', 'silly', 'to', 'make', 'audiences', 'think', 'this', 'is', 'an', 'adults', 'only', 'film.<br', '/><br', '/>the', 'story', 'is', 'set', 'in', 'a', 'parallel-type', 'world.', 'while', 'the', 'fashions,', 'cars', 'and', 'mores', 'appear', 'circa', '1953,', 'in', 'this', 'bizarro', 'world', 'there', 'has', 'been', 'a', 'fierce', 'recent', 'zombie', 'plague', 'that', 'resulted', 'in', 'the', '\"zombie', 'war\"', 'and', 'massive', 'changes', 'in', 'everyday', 'life.', 'at', 'school,', 'kids', 'are', 'trained', 'in', 'armed', 'combat', 'and', \"there's\", 'a', 'cute', 'scene', 'late', 'in', 'the', 'film', 'where', 'the', 'father', 'gives', 'his', 'son', 'a', 'handgun', 'and', 'tells', 'him', 'to', 'keep', 'it', 'in', 'his', 'backpack', '\"just', 'in', 'case\"!', 'as', 'for', 'life', 'outside', 'of', 'school,', \"it's\", 'pretty', 'weird', 'as', 'well,', 'as', 'people', 'now', 'have', 'learned', 'that', 'zombies', \"aren't\", 'such', 'a', 'bad', 'thing!', 'heck,', 'using', 'shock', 'collars', 'and', 'training,', 'they', 'can', 'be', 'made', 'into', 'slaves', 'who', 'can', 'do', 'your', 'housework,', 'clean', 'streets,', 'deliver', 'milk', 'or,', 'in', 'the', 'case', 'of', 'a', 'really', 'sick', 'guy,', 'be', 'your', '\"special', 'friend\".<br', '/><br', '/>this', 'film', 'deals', 'with', 'one', 'particular', 'family', 'that', 'finally', 'buys', 'their', 'first', 'zombie', 'slave', '(played', 'by', 'billy', 'connally).', 'mom', 'is', 'thrilled', 'and', 'her', 'son', 'slowly', 'becomes', 'the', \"zombie's\", 'friend.', 'dad,', 'on', 'the', 'other', 'hand,', \"isn't\", 'convinced--as', 'he', 'was', 'forced', 'years', 'early', 'to', 'kill', 'his', 'own', 'zombie', 'father', 'and', 'he', \"hasn't\", 'yet', 'gotten', 'over', 'this!!', 'funny,', 'irreverent', 'and', 'unique--this', 'film', 'needs', 'to', 'be', 'seen', 'by', 'a', 'much', 'wider', 'audience.'], 'label': 'pos'}\n"
     ]
    }
   ],
   "source": [
    "print(vars(train_data.examples[0])) # 데이터셋의 내용을 보고자 할 때는 examples를 사용"
   ]
  },
  {
   "cell_type": "markdown",
   "id": "f46414f8",
   "metadata": {},
   "source": [
    "## 데이터셋 전처리 적용"
   ]
  },
  {
   "cell_type": "code",
   "execution_count": 9,
   "id": "e09586e9",
   "metadata": {},
   "outputs": [],
   "source": [
    "import string\n",
    "\n",
    "for example in train_data.examples:\n",
    "    text = [x.lower() for x in vars(example)['text']] # 소문자로 변경\n",
    "    text = [x.replace('<br', '') for x in text] # '<br'을 ''으로 변경\n",
    "    text = [''.join(c for c in s if c not in string.punctuation) for s in text] # 구두점 제거\n",
    "    text = [s for s in text if s] # 공백 제거\n",
    "    vars(example)['text'] = text"
   ]
  },
  {
   "cell_type": "markdown",
   "id": "4762fb18",
   "metadata": {},
   "source": [
    "## 훈련과 검증 데이터셋 분리"
   ]
  },
  {
   "cell_type": "code",
   "execution_count": 10,
   "id": "de8c9551",
   "metadata": {},
   "outputs": [],
   "source": [
    "import random\n",
    "\n",
    "train_data, valid_data = train_data.split(random_state=random.seed(0), split_ratio=0.8)"
   ]
  },
  {
   "cell_type": "code",
   "execution_count": 11,
   "id": "4838f62a",
   "metadata": {},
   "outputs": [
    {
     "name": "stdout",
     "output_type": "stream",
     "text": [
      "Number of training examples 20000\n",
      "Number of validation examples 5000\n",
      "Number of testing examples 25000\n"
     ]
    }
   ],
   "source": [
    "print('Number of training examples', len(train_data))\n",
    "print('Number of validation examples', len(valid_data))\n",
    "print('Number of testing examples', len(test_data))"
   ]
  },
  {
   "cell_type": "markdown",
   "id": "1cbd35cf",
   "metadata": {},
   "source": [
    "## 단어 집합 만들기"
   ]
  },
  {
   "cell_type": "code",
   "execution_count": 12,
   "id": "483fa92c",
   "metadata": {},
   "outputs": [],
   "source": [
    "TEXT.build_vocab(train_data, max_size=10000, min_freq=10, vectors=None)\n",
    "LABEL.build_vocab(train_data)"
   ]
  },
  {
   "cell_type": "code",
   "execution_count": null,
   "id": "93b436ee",
   "metadata": {},
   "outputs": [],
   "source": []
  }
 ],
 "metadata": {
  "kernelspec": {
   "display_name": "Python 3 (ipykernel)",
   "language": "python",
   "name": "python3"
  },
  "language_info": {
   "codemirror_mode": {
    "name": "ipython",
    "version": 3
   },
   "file_extension": ".py",
   "mimetype": "text/x-python",
   "name": "python",
   "nbconvert_exporter": "python",
   "pygments_lexer": "ipython3",
   "version": "3.8.12"
  }
 },
 "nbformat": 4,
 "nbformat_minor": 5
}
